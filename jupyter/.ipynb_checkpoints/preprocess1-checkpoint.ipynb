{
 "cells": [
  {
   "cell_type": "code",
   "execution_count": 102,
   "metadata": {},
   "outputs": [
    {
     "name": "stdout",
     "output_type": "stream",
     "text": [
      "Populating the interactive namespace from numpy and matplotlib\n"
     ]
    }
   ],
   "source": [
    "import h5py\n",
    "import pandas as pd\n",
    "import SimpleITK as sitk\n",
    "from skimage.segmentation import clear_border\n",
    "from skimage import morphology\n",
    "from skimage import measure\n",
    "from skimage import filters\n",
    "from scipy.ndimage.morphology import binary_fill_holes\n",
    "%pylab inline"
   ]
  },
  {
   "cell_type": "code",
   "execution_count": 111,
   "metadata": {
    "collapsed": true
   },
   "outputs": [],
   "source": [
    "def get_segmented_lungs(im, plot=False, THRESHOLD = -320):\n",
    "\n",
    "    binary = im < THRESHOLD\n",
    "\n",
    "    cleared = clear_border(binary)\n",
    "\n",
    "    label_image = measure.label(cleared)\n",
    "\n",
    "    areas = [r.area for r in measure.regionprops(label_image)]\n",
    "    areas.sort()\n",
    "    #print areas\n",
    "    if len(areas) > 2:\n",
    "        for region in measure.regionprops(label_image):\n",
    "            if region.area < areas[-2]:\n",
    "                for coordinates in region.coords:\n",
    "                    label_image[coordinates[0], coordinates[1]] = 0\n",
    "    binary = label_image > 0\n",
    "\n",
    "    selem = morphology.disk(2)\n",
    "    binary = morphology.binary_erosion(binary, selem)\n",
    "    \n",
    "    selem = morphology.disk(15)\n",
    "    binary = morphology.binary_closing(binary, selem)\n",
    "    \n",
    "    edges = filters.roberts(binary)\n",
    "    binary = binary_fill_holes(edges)\n",
    "   \n",
    "    get_high_vals = binary == 0\n",
    "    im[get_high_vals] = 0\n",
    "\n",
    "    return im"
   ]
  },
  {
   "cell_type": "code",
   "execution_count": 120,
   "metadata": {},
   "outputs": [
    {
     "name": "stdout",
     "output_type": "stream",
     "text": [
      "/Share/home/chenxupeng/projects/pr\n"
     ]
    }
   ],
   "source": [
    "cd /Share/home/chenxupeng/projects/pr/"
   ]
  },
  {
   "cell_type": "code",
   "execution_count": 112,
   "metadata": {
    "collapsed": true
   },
   "outputs": [],
   "source": [
    "id = np.loadtxt('preprocess/patient_id',dtype = 'S')"
   ]
  },
  {
   "cell_type": "code",
   "execution_count": 108,
   "metadata": {
    "collapsed": true
   },
   "outputs": [],
   "source": [
    "id_ = {}\n",
    "for i in range(30):\n",
    "    id_[i] = id[20*i:20*(i+1)]"
   ]
  },
  {
   "cell_type": "code",
   "execution_count": 110,
   "metadata": {
    "collapsed": true
   },
   "outputs": [],
   "source": [
    "for i in range(30):\n",
    "    np.savetxt('preprocess/patient_id_'+str(i+1),id_[i],fmt = '%s')"
   ]
  },
  {
   "cell_type": "code",
   "execution_count": 63,
   "metadata": {
    "collapsed": true
   },
   "outputs": [],
   "source": [
    "processed_array = {}\n",
    "for j in range(2):\n",
    "    with h5py.File('img_array','r') as f:\n",
    "        test = f[id[j]][:,:,:]\n",
    "    tensor_dim1 = test.shape[0] \n",
    "    processed_array[j] = {}\n",
    "    for i in range(tensor_dim1):\n",
    "        processed_array[j][i] = get_segmented_lungs(test[i], THRESHOLD = -320)"
   ]
  },
  {
   "cell_type": "code",
   "execution_count": null,
   "metadata": {
    "collapsed": true
   },
   "outputs": [],
   "source": [
    "600 * 300 * 矩阵"
   ]
  },
  {
   "cell_type": "code",
   "execution_count": 94,
   "metadata": {
    "collapsed": true
   },
   "outputs": [],
   "source": [
    "tt = {}\n",
    "for i in range(2):\n",
    "    tt[i] = np.array([val for (key,val) in processed_array[i].iteritems()])"
   ]
  },
  {
   "cell_type": "code",
   "execution_count": 100,
   "metadata": {
    "collapsed": true
   },
   "outputs": [],
   "source": [
    "with h5py.File('processed_array','w') as f:\n",
    "    for i in range(2):\n",
    "        f.create_dataset(id[i],data = tt[i])"
   ]
  },
  {
   "cell_type": "code",
   "execution_count": null,
   "metadata": {
    "collapsed": true
   },
   "outputs": [],
   "source": [
    "k = 3\n",
    "processed_array = {}\n",
    "with h5py.File('preprocess/img_array','r') as f:\n",
    "    for j in range(20*(k-1),20*k):\n",
    "        test = f[id[j]][:,:,:]\n",
    "        tensor_dim1 = test.shape[0]\n",
    "        processed_array[j] = {}\n",
    "        for i in range(tensor_dim1):\n",
    "            processed_array[j][i] = get_segmented_lungs(test[i], THRESHOLD = -320)\n",
    "        print 'first step'\n",
    "        \n",
    "processed_tensor = {}\n",
    "for i in range(20*(k-1),20*k):\n",
    "    processed_tensor[i] = np.array([val for (key,val) in processed_array[i].iteritems()])\n",
    "\n",
    "print 'second step'\n",
    "with h5py.File('preprocess/processed_tensor_'+str(k),'w') as f:\n",
    "    for i in range(20*(k-1),20*k):\n",
    "        f.create_dataset('preprocess'+id[i],data = processed_tensor[i])\n",
    "        \n",
    "print 'third step'"
   ]
  },
  {
   "cell_type": "code",
   "execution_count": null,
   "metadata": {},
   "outputs": [
    {
     "name": "stdout",
     "output_type": "stream",
     "text": [
      "first step\n",
      "first step\n",
      "first step\n",
      "first step\n",
      "first step\n",
      "first step\n",
      "first step\n",
      "first step\n",
      "first step\n",
      "first step\n",
      "first step\n",
      "first step\n",
      "first step\n",
      "first step\n",
      "first step\n",
      "first step\n",
      "first step\n",
      "first step\n",
      "first step\n"
     ]
    }
   ],
   "source": [
    "processed_array = {}\n",
    "with h5py.File('preprocess/img_array','r') as f:\n",
    "    for j in range(20,40):\n",
    "        test = f[id[j]][:,:,:]\n",
    "        tensor_dim1 = test.shape[0]\n",
    "        processed_array[j] = {}\n",
    "        for i in range(tensor_dim1):\n",
    "            processed_array[j][i] = get_segmented_lungs(test[i], THRESHOLD = -320)\n",
    "        print 'first step'\n",
    "        \n",
    "processed_tensor = {}\n",
    "for i in range(20,40):\n",
    "    processed_tensor[i] = np.array([val for (key,val) in processed_array[i].iteritems()])\n",
    "\n",
    "print 'second step'\n",
    "with h5py.File('preprocess/processed_tensor_2','w') as f:\n",
    "    for i in range(20,40):\n",
    "        f.create_dataset('preprocess'+id[i],data = processed_tensor[i])\n",
    "        \n",
    "print 'third step'"
   ]
  },
  {
   "cell_type": "code",
   "execution_count": null,
   "metadata": {
    "collapsed": true
   },
   "outputs": [],
   "source": [
    "processed_array = {}\n",
    "with h5py.File('preprocess/img_array','r') as f:\n",
    "    for j in range(2):\n",
    "        test = f[id[j]][:,:,:]\n",
    "        tensor_dim1 = test.shape[0]\n",
    "        processed_array[j] = {}\n",
    "        for i in range(tensor_dim1):\n",
    "            processed_array[j][i] = get_segmented_lungs(test[i], THRESHOLD = -320)\n",
    "print 'first step'\n",
    "        \n",
    "processed_tensor = {}\n",
    "for i in range(2):\n",
    "    processed_tensor[i] = np.array([val for (key,val) in processed_array[i].iteritems()])\n",
    "\n",
    "print 'second step'\n",
    "with h5py.File('preprocess/processed_tensor_test_1','w') as f:\n",
    "    for i in range(2):\n",
    "        f.create_dataset('preprocess'+id[i],data = processed_tensor[i])\n",
    "        \n",
    "print 'third step'"
   ]
  },
  {
   "cell_type": "code",
   "execution_count": null,
   "metadata": {
    "collapsed": true
   },
   "outputs": [],
   "source": []
  },
  {
   "cell_type": "code",
   "execution_count": 68,
   "metadata": {},
   "outputs": [
    {
     "data": {
      "text/plain": [
       "\"\\nwith h5py.File('img_array','r') as f:\\n    test = f['LKDS-00001'][:,:,:]\\ntensor_dim1 = test.shape[0] \\nprocessed_array = {}\\nfor i in range(tensor_dim1):\\n    processed_array[i] = get_segmented_lungs(test[i], THRESHOLD = -320)\\n\""
      ]
     },
     "execution_count": 68,
     "metadata": {},
     "output_type": "execute_result"
    }
   ],
   "source": [
    "'''\n",
    "with h5py.File('img_array','r') as f:\n",
    "    test = f['LKDS-00001'][:,:,:]\n",
    "tensor_dim1 = test.shape[0] \n",
    "processed_array = {}\n",
    "for i in range(tensor_dim1):\n",
    "    processed_array[i] = get_segmented_lungs(test[i], THRESHOLD = -320)\n",
    "'''"
   ]
  },
  {
   "cell_type": "code",
   "execution_count": null,
   "metadata": {
    "collapsed": true
   },
   "outputs": [],
   "source": []
  },
  {
   "cell_type": "code",
   "execution_count": 22,
   "metadata": {},
   "outputs": [
    {
     "data": {
      "text/plain": [
       "\"\\npath = np.loadtxt('patient_path_unique',dtype = 'S')\\nid_ = {}\\nfor i in range(600):\\n    id_[i] = path[i].split('/')[2].split('.')[0]\\nid = np.array([val for (key,val) in id_.iteritems()])\\nnp.savetxt('patient_id',id,fmt = '%s')\\n\""
      ]
     },
     "execution_count": 22,
     "metadata": {},
     "output_type": "execute_result"
    }
   ],
   "source": [
    "'''\n",
    "path = np.loadtxt('patient_path_unique',dtype = 'S')\n",
    "id_ = {}\n",
    "for i in range(600):\n",
    "    id_[i] = path[i].split('/')[2].split('.')[0]\n",
    "id = np.array([val for (key,val) in id_.iteritems()])\n",
    "np.savetxt('patient_id',id,fmt = '%s')\n",
    "'''"
   ]
  },
  {
   "cell_type": "code",
   "execution_count": 20,
   "metadata": {
    "collapsed": true
   },
   "outputs": [],
   "source": []
  },
  {
   "cell_type": "code",
   "execution_count": null,
   "metadata": {
    "collapsed": true
   },
   "outputs": [],
   "source": []
  }
 ],
 "metadata": {
  "kernelspec": {
   "display_name": "Python [default]",
   "language": "python",
   "name": "python2"
  },
  "language_info": {
   "codemirror_mode": {
    "name": "ipython",
    "version": 2
   },
   "file_extension": ".py",
   "mimetype": "text/x-python",
   "name": "python",
   "nbconvert_exporter": "python",
   "pygments_lexer": "ipython2",
   "version": "2.7.13"
  }
 },
 "nbformat": 4,
 "nbformat_minor": 2
}
