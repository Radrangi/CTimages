{
 "cells": [
  {
   "cell_type": "code",
   "execution_count": null,
   "metadata": {
    "collapsed": true
   },
   "outputs": [],
   "source": [
    "#仿射变换\n",
    "#存成五折交叉验证\n",
    "#unet\n",
    "#classfier"
   ]
  },
  {
   "cell_type": "code",
   "execution_count": 1,
   "metadata": {},
   "outputs": [
    {
     "name": "stderr",
     "output_type": "stream",
     "text": [
      "Using TensorFlow backend.\n"
     ]
    }
   ],
   "source": [
    "from __future__ import print_function, division\n",
    "import numpy as np\n",
    "import os\n",
    "from glob import glob\n",
    "import pandas as pd\n",
    "import numpy as np\n",
    "import matplotlib.pyplot as plt\n",
    "import seaborn as sns\n",
    "import h5py\n",
    "from tqdm import tqdm\n",
    "from keras.preprocessing.image import ImageDataGenerator"
   ]
  },
  {
   "cell_type": "code",
   "execution_count": 3,
   "metadata": {},
   "outputs": [
    {
     "name": "stdout",
     "output_type": "stream",
     "text": [
      "/home/chenxupeng/projects/pr\n"
     ]
    }
   ],
   "source": [
    "cd /home/chenxupeng/projects/pr"
   ]
  },
  {
   "cell_type": "code",
   "execution_count": null,
   "metadata": {
    "collapsed": true
   },
   "outputs": [],
   "source": []
  },
  {
   "cell_type": "code",
   "execution_count": 4,
   "metadata": {
    "collapsed": true
   },
   "outputs": [],
   "source": [
    "file = 'preprocess/forunet/segment/3_merge'"
   ]
  },
  {
   "cell_type": "code",
   "execution_count": 8,
   "metadata": {
    "collapsed": true
   },
   "outputs": [],
   "source": [
    "with h5py.File(file) as f:\n",
    "    images = f['images'][:,:,:,:]\n",
    "    masks = f['masks'][:,:,:,:]"
   ]
  },
  {
   "cell_type": "code",
   "execution_count": 12,
   "metadata": {},
   "outputs": [
    {
     "name": "stdout",
     "output_type": "stream",
     "text": [
      "(2913, 1, 512, 512)\n",
      "(2913, 1, 512, 512)\n"
     ]
    }
   ],
   "source": [
    "print (images.shape)\n",
    "print (masks.shape)"
   ]
  },
  {
   "cell_type": "code",
   "execution_count": 16,
   "metadata": {},
   "outputs": [
    {
     "data": {
      "text/plain": [
       "(512, 512)"
      ]
     },
     "execution_count": 16,
     "metadata": {},
     "output_type": "execute_result"
    }
   ],
   "source": [
    "images[0,0].shape"
   ]
  },
  {
   "cell_type": "code",
   "execution_count": 5,
   "metadata": {
    "collapsed": true
   },
   "outputs": [],
   "source": [
    "#augmentation"
   ]
  },
  {
   "cell_type": "code",
   "execution_count": 6,
   "metadata": {
    "collapsed": true
   },
   "outputs": [],
   "source": [
    "datagen = ImageDataGenerator(featurewise_center=False,\n",
    "                             featurewise_std_normalization=False,\n",
    "                             rotation_range=3,\n",
    "                             width_shift_range=0.1,\n",
    "                             height_shift_range=0.1,\n",
    "                             channel_shift_range=0.2,\n",
    "                             zoom_range=0.05,\n",
    "                             horizontal_flip=False)"
   ]
  },
  {
   "cell_type": "code",
   "execution_count": 18,
   "metadata": {},
   "outputs": [
    {
     "name": "stderr",
     "output_type": "stream",
     "text": [
      "/home/chenxupeng/apps/anaconda2/lib/python2.7/site-packages/keras/preprocessing/image.py:653: UserWarning: Expected input to be images (as Numpy array) following the data format convention \"channels_last\" (channels on axis 3), i.e. expected either 1, 3 or 4 channels on axis 3. However, it was passed an array with shape (1, 1, 512, 512) (512 channels).\n",
      "  ' (' + str(x.shape[self.channel_axis]) + ' channels).')\n"
     ]
    }
   ],
   "source": [
    "datagen.fit(images[:1,:,:,:])"
   ]
  },
  {
   "cell_type": "code",
   "execution_count": 137,
   "metadata": {
    "collapsed": true
   },
   "outputs": [],
   "source": [
    "def augment_images(images,masks,batch_size):\n",
    "    labels = np.arange(images.shape[0])\n",
    "    data_gen_args = dict(featurewise_center=False,\n",
    "                     featurewise_std_normalization=False,\n",
    "                     rotation_range=3,\n",
    "                     width_shift_range=0.1,\n",
    "                     height_shift_range=0.1,\n",
    "                     channel_shift_range=0.2,\n",
    "                     zoom_range=0.05,\n",
    "                     horizontal_flip=False,\n",
    "                     data_format='channels_first')\n",
    "    image_datagen = ImageDataGenerator(**data_gen_args)\n",
    "    mask_datagen = ImageDataGenerator(**data_gen_args)\n",
    "\n",
    "    seed =123\n",
    "    image_datagen.fit(images,augment=True, seed=seed)\n",
    "    mask_datagen.fit(masks,augment=True, seed=seed)\n",
    "    X_aug = []\n",
    "    Z_aug = []\n",
    "\n",
    "    i_batch = 0\n",
    "    for X, y in image_datagen.flow(images, labels, batch_size=batch_size,seed=seed):\n",
    "        X_aug.append(X)  \n",
    "        i_batch += 1\n",
    "        if i_batch >= batch_size:\n",
    "            break\n",
    "    j_batch = 0\n",
    "    for Z, y in image_datagen.flow(masks, labels, batch_size=batch_size,seed=seed):\n",
    "        Z_aug.append(Z)  \n",
    "        j_batch += 1\n",
    "        if j_batch >= batch_size:\n",
    "            break\n",
    "    X_aug = np.vstack(X_aug)\n",
    "    Z_aug = np.vstack(Z_aug)\n",
    "    return X_aug,Z_aug"
   ]
  },
  {
   "cell_type": "code",
   "execution_count": 138,
   "metadata": {
    "collapsed": true
   },
   "outputs": [],
   "source": [
    "a ,b = augment_images(images[9:10,:,:,:],masks[9:10,:,:,:],10)"
   ]
  },
  {
   "cell_type": "code",
   "execution_count": 139,
   "metadata": {},
   "outputs": [
    {
     "data": {
      "image/png": "[encoded data removed]",
      "text/plain": [
       "<matplotlib.figure.Figure at 0x7f537eb7b510>"
      ]
     },
     "metadata": {},
     "output_type": "display_data"
    }
   ],
   "source": [
    "fig, ax = plt.subplots(1, 2, figsize=(16,6))\n",
    "ax[0].imshow(images[10,0,:,:],'bone')\n",
    "ax[1].imshow(masks[10,0,:,:],'bone')\n",
    "plt.show()"
   ]
  },
  {
   "cell_type": "code",
   "execution_count": 140,
   "metadata": {},
   "outputs": [
    {
     "data": {
      "image/png": "[encoded data removed]",
      "text/plain": [
       "<matplotlib.figure.Figure at 0x7f53766b7990>"
      ]
     },
     "metadata": {},
     "output_type": "display_data"
    }
   ],
   "source": [
    "fig, ax = plt.subplots(4, 5, figsize=(16,10))\n",
    "for i in range(5):\n",
    "    for j in range(2):\n",
    "        ax[j,i].imshow(a[2*i+j,0,:,:],'bone')\n",
    "for t in range(5):\n",
    "    for m in range(2):\n",
    "        ax[2+m,t].imshow(b[2*t+m,0,:,:],'bone')\n",
    "plt.show()"
   ]
  },
  {
   "cell_type": "code",
   "execution_count": 110,
   "metadata": {
    "collapsed": true
   },
   "outputs": [],
   "source": [
    "#mask也需要同步的变换才行!"
   ]
  },
  {
   "cell_type": "code",
   "execution_count": null,
   "metadata": {},
   "outputs": [],
   "source": []
  },
  {
   "cell_type": "code",
   "execution_count": null,
   "metadata": {
    "collapsed": true
   },
   "outputs": [],
   "source": []
  },
  {
   "cell_type": "code",
   "execution_count": null,
   "metadata": {},
   "outputs": [
    {
     "name": "stderr",
     "output_type": "stream",
     "text": [
      "\n",
      "  0%|          | 0/2913 [00:00<?, ?it/s]\n",
      "\u001b[A\n",
      "  0%|          | 1/2913 [00:00<12:37,  3.84it/s]\u001b[A\n",
      "  0%|          | 2/2913 [00:00<12:36,  3.85it/s]\u001b[A\n",
      "  0%|          | 3/2913 [00:00<12:33,  3.86it/s]\u001b[A\n",
      "  0%|          | 4/2913 [00:01<12:34,  3.85it/s]"
     ]
    }
   ],
   "source": [
    "aug_images = np.ndarray([images.shape[0]*10,1,512,512],dtype=np.float32)\n",
    "aug_masks = np.ndarray([masks.shape[0]*10,1,512,512],dtype=np.float32)\n",
    "for i in tqdm(range(images.shape[0])):\n",
    "    a,b = augment_images(images[i:i+1,:,:,:],masks[i:i+1,:,:,:],10)\n",
    "    for j in range(10):\n",
    "        aug_images[10*i+j] = a[j]\n",
    "        aug_masks[10*i+j] = b[j]"
   ]
  },
  {
   "cell_type": "code",
   "execution_count": 63,
   "metadata": {},
   "outputs": [
    {
     "data": {
      "text/plain": [
       "(1, 512, 512)"
      ]
     },
     "execution_count": 63,
     "metadata": {},
     "output_type": "execute_result"
    }
   ],
   "source": [
    "with h5py.File('augment_merge')aug_images"
   ]
  },
  {
   "cell_type": "code",
   "execution_count": 70,
   "metadata": {},
   "outputs": [
    {
     "data": {
      "text/plain": [
       "(1, 512, 512)"
      ]
     },
     "execution_count": 70,
     "metadata": {},
     "output_type": "execute_result"
    }
   ],
   "source": []
  },
  {
   "cell_type": "code",
   "execution_count": null,
   "metadata": {
    "collapsed": true
   },
   "outputs": [],
   "source": []
  },
  {
   "cell_type": "code",
   "execution_count": null,
   "metadata": {
    "collapsed": true
   },
   "outputs": [],
   "source": []
  }
 ],
 "metadata": {
  "kernelspec": {
   "display_name": "Python 2",
   "language": "python",
   "name": "python2"
  },
  "language_info": {
   "codemirror_mode": {
    "name": "ipython",
    "version": 2
   },
   "file_extension": ".py",
   "mimetype": "text/x-python",
   "name": "python",
   "nbconvert_exporter": "python",
   "pygments_lexer": "ipython2",
   "version": "2.7.13"
  }
 },
 "nbformat": 4,
 "nbformat_minor": 2
}
