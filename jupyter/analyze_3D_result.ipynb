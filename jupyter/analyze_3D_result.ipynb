{
 "cells": [
  {
   "cell_type": "code",
   "execution_count": 1,
   "metadata": {},
   "outputs": [
    {
     "name": "stdout",
     "output_type": "stream",
     "text": [
      "Populating the interactive namespace from numpy and matplotlib\n"
     ]
    }
   ],
   "source": [
    "%pylab inline"
   ]
  },
  {
   "cell_type": "code",
   "execution_count": 6,
   "metadata": {},
   "outputs": [],
   "source": [
    "import pandas as pd"
   ]
  },
  {
   "cell_type": "code",
   "execution_count": 75,
   "metadata": {},
   "outputs": [],
   "source": [
    "colnames = ['pre','result','type','name']\n",
    "table = pd.read_csv('results_6',names=colnames, header=None)"
   ]
  },
  {
   "cell_type": "code",
   "execution_count": 76,
   "metadata": {},
   "outputs": [
    {
     "data": {
      "text/plain": [
       "'[array([0])'"
      ]
     },
     "execution_count": 76,
     "metadata": {},
     "output_type": "execute_result"
    }
   ],
   "source": [
    "table['pre'][0]"
   ]
  },
  {
   "cell_type": "code",
   "execution_count": 77,
   "metadata": {},
   "outputs": [
    {
     "data": {
      "text/html": [
       "<div>\n",
       "<style>\n",
       "    .dataframe thead tr:only-child th {\n",
       "        text-align: right;\n",
       "    }\n",
       "\n",
       "    .dataframe thead th {\n",
       "        text-align: left;\n",
       "    }\n",
       "\n",
       "    .dataframe tbody tr th {\n",
       "        vertical-align: top;\n",
       "    }\n",
       "</style>\n",
       "<table border=\"1\" class=\"dataframe\">\n",
       "  <thead>\n",
       "    <tr style=\"text-align: right;\">\n",
       "      <th></th>\n",
       "      <th>pre</th>\n",
       "      <th>result</th>\n",
       "      <th>type</th>\n",
       "      <th>name</th>\n",
       "    </tr>\n",
       "  </thead>\n",
       "  <tbody>\n",
       "    <tr>\n",
       "      <th>0</th>\n",
       "      <td>[array([0])</td>\n",
       "      <td>array([ True]</td>\n",
       "      <td>dtype=bool)</td>\n",
       "      <td>u'nega_LKDS-00003_1']</td>\n",
       "    </tr>\n",
       "    <tr>\n",
       "      <th>1</th>\n",
       "      <td>[array([0])</td>\n",
       "      <td>array([ True]</td>\n",
       "      <td>dtype=bool)</td>\n",
       "      <td>u'nega_LKDS-00005_1']</td>\n",
       "    </tr>\n",
       "    <tr>\n",
       "      <th>2</th>\n",
       "      <td>[array([0])</td>\n",
       "      <td>array([ True]</td>\n",
       "      <td>dtype=bool)</td>\n",
       "      <td>u'nega_LKDS-00011_1']</td>\n",
       "    </tr>\n",
       "    <tr>\n",
       "      <th>3</th>\n",
       "      <td>[array([0])</td>\n",
       "      <td>array([ True]</td>\n",
       "      <td>dtype=bool)</td>\n",
       "      <td>u'nega_LKDS-00019_1']</td>\n",
       "    </tr>\n",
       "    <tr>\n",
       "      <th>4</th>\n",
       "      <td>[array([0])</td>\n",
       "      <td>array([ True]</td>\n",
       "      <td>dtype=bool)</td>\n",
       "      <td>u'nega_LKDS-00020_1']</td>\n",
       "    </tr>\n",
       "  </tbody>\n",
       "</table>\n",
       "</div>"
      ],
      "text/plain": [
       "           pre          result          type                    name\n",
       "0  [array([0])   array([ True]   dtype=bool)   u'nega_LKDS-00003_1']\n",
       "1  [array([0])   array([ True]   dtype=bool)   u'nega_LKDS-00005_1']\n",
       "2  [array([0])   array([ True]   dtype=bool)   u'nega_LKDS-00011_1']\n",
       "3  [array([0])   array([ True]   dtype=bool)   u'nega_LKDS-00019_1']\n",
       "4  [array([0])   array([ True]   dtype=bool)   u'nega_LKDS-00020_1']"
      ]
     },
     "execution_count": 77,
     "metadata": {},
     "output_type": "execute_result"
    }
   ],
   "source": [
    "table.head(5)"
   ]
  },
  {
   "cell_type": "code",
   "execution_count": 78,
   "metadata": {},
   "outputs": [],
   "source": [
    "for i in range(table.shape[0]):\n",
    "    if table['pre'][i] == '[array([0])':\n",
    "        table['pre'][i] = 0\n",
    "    else:\n",
    "        table['pre'][i] = 1\n",
    "    if table['result'][i] == ' array([ True]':\n",
    "        table['result'][i] = 1\n",
    "    else:\n",
    "        table['result'][i] = 0\n",
    "    table['name'][i] = table['name'][i][3:-2]"
   ]
  },
  {
   "cell_type": "code",
   "execution_count": 80,
   "metadata": {},
   "outputs": [
    {
     "data": {
      "text/html": [
       "<div>\n",
       "<style>\n",
       "    .dataframe thead tr:only-child th {\n",
       "        text-align: right;\n",
       "    }\n",
       "\n",
       "    .dataframe thead th {\n",
       "        text-align: left;\n",
       "    }\n",
       "\n",
       "    .dataframe tbody tr th {\n",
       "        vertical-align: top;\n",
       "    }\n",
       "</style>\n",
       "<table border=\"1\" class=\"dataframe\">\n",
       "  <thead>\n",
       "    <tr style=\"text-align: right;\">\n",
       "      <th></th>\n",
       "      <th>pre</th>\n",
       "      <th>result</th>\n",
       "      <th>type</th>\n",
       "      <th>name</th>\n",
       "    </tr>\n",
       "  </thead>\n",
       "  <tbody>\n",
       "    <tr>\n",
       "      <th>0</th>\n",
       "      <td>0</td>\n",
       "      <td>1</td>\n",
       "      <td>dtype=bool)</td>\n",
       "      <td>nega_LKDS-00003_1</td>\n",
       "    </tr>\n",
       "    <tr>\n",
       "      <th>1</th>\n",
       "      <td>0</td>\n",
       "      <td>1</td>\n",
       "      <td>dtype=bool)</td>\n",
       "      <td>nega_LKDS-00005_1</td>\n",
       "    </tr>\n",
       "    <tr>\n",
       "      <th>2</th>\n",
       "      <td>0</td>\n",
       "      <td>1</td>\n",
       "      <td>dtype=bool)</td>\n",
       "      <td>nega_LKDS-00011_1</td>\n",
       "    </tr>\n",
       "    <tr>\n",
       "      <th>3</th>\n",
       "      <td>0</td>\n",
       "      <td>1</td>\n",
       "      <td>dtype=bool)</td>\n",
       "      <td>nega_LKDS-00019_1</td>\n",
       "    </tr>\n",
       "    <tr>\n",
       "      <th>4</th>\n",
       "      <td>0</td>\n",
       "      <td>1</td>\n",
       "      <td>dtype=bool)</td>\n",
       "      <td>nega_LKDS-00020_1</td>\n",
       "    </tr>\n",
       "  </tbody>\n",
       "</table>\n",
       "</div>"
      ],
      "text/plain": [
       "  pre result          type               name\n",
       "0   0      1   dtype=bool)  nega_LKDS-00003_1\n",
       "1   0      1   dtype=bool)  nega_LKDS-00005_1\n",
       "2   0      1   dtype=bool)  nega_LKDS-00011_1\n",
       "3   0      1   dtype=bool)  nega_LKDS-00019_1\n",
       "4   0      1   dtype=bool)  nega_LKDS-00020_1"
      ]
     },
     "execution_count": 80,
     "metadata": {},
     "output_type": "execute_result"
    }
   ],
   "source": [
    "table.head(5)"
   ]
  },
  {
   "cell_type": "code",
   "execution_count": 81,
   "metadata": {},
   "outputs": [
    {
     "data": {
      "text/plain": [
       "0"
      ]
     },
     "execution_count": 81,
     "metadata": {},
     "output_type": "execute_result"
    }
   ],
   "source": [
    "table['pre'][0]"
   ]
  },
  {
   "cell_type": "code",
   "execution_count": 38,
   "metadata": {
    "collapsed": true
   },
   "outputs": [],
   "source": [
    "#analyze: TP FN FP TN"
   ]
  },
  {
   "cell_type": "code",
   "execution_count": 82,
   "metadata": {},
   "outputs": [],
   "source": [
    "tp_count = 0\n",
    "fn_count = 0\n",
    "fp_count = 0\n",
    "tn_count = 0\n",
    "for i in range(table.shape[0]):\n",
    "    if (table['pre'][i] == 1) and (table['result'][i] == 1):\n",
    "        tp_count +=1\n",
    "    elif (table['pre'][i] == 0) and (table['result'][i] == 1):\n",
    "        tn_count +=1\n",
    "    elif (table['pre'][i] == 0) and (table['result'][i] == 0):\n",
    "        fn_count +=1\n",
    "    elif (table['pre'][i] == 1) and (table['result'][i] == 0):\n",
    "        fp_count +=1"
   ]
  },
  {
   "cell_type": "code",
   "execution_count": 83,
   "metadata": {},
   "outputs": [
    {
     "name": "stdout",
     "output_type": "stream",
     "text": [
      "70\n",
      "154\n",
      "14\n",
      "210\n"
     ]
    }
   ],
   "source": [
    "print tp_count\n",
    "print fn_count\n",
    "print fp_count\n",
    "print tn_count"
   ]
  },
  {
   "cell_type": "code",
   "execution_count": 84,
   "metadata": {},
   "outputs": [],
   "source": [
    "#we need tp and tn"
   ]
  },
  {
   "cell_type": "code",
   "execution_count": 95,
   "metadata": {
    "collapsed": true
   },
   "outputs": [],
   "source": [
    "TP = float(tp_count)\n",
    "TN = float(tn_count)\n",
    "FP = float(fp_count)\n",
    "FN = float(fn_count)"
   ]
  },
  {
   "cell_type": "code",
   "execution_count": 96,
   "metadata": {},
   "outputs": [],
   "source": [
    "#True Positive Rate（真正率 , TPR）或灵敏度（sensitivity） \n",
    "TPR = TP /(TP + FN) \n",
    "#正样本预测结果数 / 正样本实际数\n",
    "\n",
    "#True Negative Rate（真负率 , TNR）或特指度（specificity） \n",
    "TNR = TN /(TN + FP) \n",
    "#负样本预测结果数 / 负样本实际数\n",
    "\n",
    "#False Positive Rate （假正率, FPR） \n",
    "FPR = FP /(FP + TN)\n",
    "#被预测为正的负样本结果数 /负样本实际数\n",
    "\n",
    "#False Negative Rate（假负率 , FNR） \n",
    "FNR = FN /(TP + FN)\n",
    "#被预测为负的正样本结果数 / 正样本实际数\n",
    "\n",
    "#精确度（Precision）： \n",
    "P = TP/(TP+FP) \n",
    "#反映了被分类器判定的正例中真正的正例样本的比重\n",
    "\n",
    "#准确率（Accuracy） \n",
    "A =(TP + TN)/(TP + FN + FP + TN);\n",
    "#反映了分类器统对整个样本的判定能力——能将正的判定为正，负的判定为负\n",
    "\n",
    "#召回率(Recall)，也称为 True Positive Rate: \n",
    "R = TP/(TP+FN)\n",
    "#反映了被正确判定的正例占总的正例的比重"
   ]
  },
  {
   "cell_type": "code",
   "execution_count": 103,
   "metadata": {},
   "outputs": [
    {
     "name": "stdout",
     "output_type": "stream",
     "text": [
      "TPR: 0.312500\n",
      "TNR: 0.937500\n",
      "FPR: 0.062500\n",
      "FNR: 0.687500\n",
      "P: 0.833333\n",
      "A: 0.625000\n",
      "R: 0.312500\n"
     ]
    }
   ],
   "source": [
    "print \"TPR: %f\" %TPR\n",
    "print \"TNR: %f\" %TNR\n",
    "print \"FPR: %f\" %FPR\n",
    "print \"FNR: %f\" %FNR\n",
    "print \"P: %f\" %P\n",
    "print \"A: %f\" %A\n",
    "print \"R: %f\" %R"
   ]
  },
  {
   "cell_type": "code",
   "execution_count": 104,
   "metadata": {},
   "outputs": [],
   "source": [
    "#analyze the four types' diameter distribution"
   ]
  },
  {
   "cell_type": "code",
   "execution_count": 105,
   "metadata": {},
   "outputs": [
    {
     "data": {
      "text/plain": [
       "0       nega_LKDS-00003_1\n",
       "1       nega_LKDS-00005_1\n",
       "2       nega_LKDS-00011_1\n",
       "3       nega_LKDS-00019_1\n",
       "4       nega_LKDS-00020_1\n",
       "5      nega_LKDS-00020_10\n",
       "6      nega_LKDS-00020_11\n",
       "7       nega_LKDS-00020_2\n",
       "8       nega_LKDS-00020_4\n",
       "9       nega_LKDS-00020_8\n",
       "10      nega_LKDS-00020_9\n",
       "11      nega_LKDS-00026_1\n",
       "12      nega_LKDS-00026_2\n",
       "13      nega_LKDS-00028_1\n",
       "14      nega_LKDS-00029_1\n",
       "15      nega_LKDS-00042_1\n",
       "16      nega_LKDS-00047_2\n",
       "17      nega_LKDS-00064_1\n",
       "18      nega_LKDS-00064_2\n",
       "19      nega_LKDS-00077_1\n",
       "20      nega_LKDS-00078_1\n",
       "21      nega_LKDS-00078_2\n",
       "22      nega_LKDS-00078_3\n",
       "23      nega_LKDS-00084_1\n",
       "24      nega_LKDS-00090_1\n",
       "25      nega_LKDS-00093_2\n",
       "26      nega_LKDS-00100_1\n",
       "27      nega_LKDS-00102_1\n",
       "28      nega_LKDS-00104_1\n",
       "29      nega_LKDS-00112_2\n",
       "              ...        \n",
       "418     posi_LKDS-00859_5\n",
       "419     posi_LKDS-00866_1\n",
       "420     posi_LKDS-00866_2\n",
       "421     posi_LKDS-00866_3\n",
       "422     posi_LKDS-00882_1\n",
       "423     posi_LKDS-00888_1\n",
       "424     posi_LKDS-00890_1\n",
       "425     posi_LKDS-00896_1\n",
       "426     posi_LKDS-00901_2\n",
       "427     posi_LKDS-00906_1\n",
       "428     posi_LKDS-00914_1\n",
       "429     posi_LKDS-00915_2\n",
       "430     posi_LKDS-00915_3\n",
       "431     posi_LKDS-00917_2\n",
       "432     posi_LKDS-00917_3\n",
       "433     posi_LKDS-00921_3\n",
       "434     posi_LKDS-00942_1\n",
       "435     posi_LKDS-00942_3\n",
       "436     posi_LKDS-00946_1\n",
       "437     posi_LKDS-00962_1\n",
       "438     posi_LKDS-00969_1\n",
       "439     posi_LKDS-00976_1\n",
       "440     posi_LKDS-00976_2\n",
       "441     posi_LKDS-00976_3\n",
       "442     posi_LKDS-00976_4\n",
       "443     posi_LKDS-00981_1\n",
       "444     posi_LKDS-00982_1\n",
       "445     posi_LKDS-00985_1\n",
       "446     posi_LKDS-00990_1\n",
       "447     posi_LKDS-01000_1\n",
       "Name: name, Length: 448, dtype: object"
      ]
     },
     "execution_count": 105,
     "metadata": {},
     "output_type": "execute_result"
    }
   ],
   "source": [
    "table['name']"
   ]
  },
  {
   "cell_type": "code",
   "execution_count": null,
   "metadata": {
    "collapsed": true
   },
   "outputs": [],
   "source": []
  }
 ],
 "metadata": {
  "kernelspec": {
   "display_name": "Python 2",
   "language": "python",
   "name": "python2"
  },
  "language_info": {
   "codemirror_mode": {
    "name": "ipython",
    "version": 2
   },
   "file_extension": ".py",
   "mimetype": "text/x-python",
   "name": "python",
   "nbconvert_exporter": "python",
   "pygments_lexer": "ipython2",
   "version": "2.7.13"
  }
 },
 "nbformat": 4,
 "nbformat_minor": 2
}
