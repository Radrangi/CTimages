{
 "cells": [
  {
   "cell_type": "code",
   "execution_count": 1,
   "metadata": {
    "collapsed": true
   },
   "outputs": [],
   "source": [
    "#classfier"
   ]
  },
  {
   "cell_type": "code",
   "execution_count": 36,
   "metadata": {},
   "outputs": [],
   "source": [
    "from __future__ import print_function, division\n",
    "import numpy as np\n",
    "import os\n",
    "from glob import glob\n",
    "import pandas as pd\n",
    "import numpy as np\n",
    "import matplotlib.pyplot as plt\n",
    "import seaborn as sns\n",
    "import h5py\n",
    "from tqdm import tqdm\n",
    "import keras as K\n",
    "from keras.callbacks import TensorBoard\n",
    "from keras.preprocessing.image import ImageDataGenerator\n",
    "from sklearn import cross_validation\n",
    "from sklearn.cross_validation import StratifiedKFold as KFold\n",
    "from sklearn.metrics import classification_report\n",
    "from sklearn.ensemble import RandomForestClassifier as RF\n",
    "import xgboost as xgb\n",
    "import pickle\n",
    "from skimage.measure import label,regionprops"
   ]
  },
  {
   "cell_type": "code",
   "execution_count": 3,
   "metadata": {},
   "outputs": [
    {
     "name": "stdout",
     "output_type": "stream",
     "text": [
      "/home/chenxupeng/projects/pr\n"
     ]
    }
   ],
   "source": [
    "cd /home/chenxupeng/projects/pr"
   ]
  },
  {
   "cell_type": "code",
   "execution_count": null,
   "metadata": {
    "collapsed": true
   },
   "outputs": [],
   "source": [
    "#准备数据\n",
    "images_train = {}\n",
    "images_test={}\n",
    "masks_train={}\n",
    "masks_test_true ={}\n",
    "\n",
    "for i in range(5):\n",
    "    f =  h5py.File('/home/chenxupeng/projects/pr/preprocess/forunet/segment/cv_'+str(i)+'_224*224')\n",
    "    images_train[i] = f['images_train_'+str(i)][:,:,:,:]  \n",
    "    images_test[i] = f['images_test_'+str(i)][:,:,:,:]  \n",
    "    masks_train[i] = f['masks_train_'+str(i)][:,:,:,:]  \n",
    "    masks_test_true[i] =f['masks_test_'+str(i)][:,:,:,:]  "
   ]
  },
  {
   "cell_type": "code",
   "execution_count": null,
   "metadata": {
    "collapsed": true
   },
   "outputs": [],
   "source": []
  },
  {
   "cell_type": "code",
   "execution_count": null,
   "metadata": {
    "collapsed": true
   },
   "outputs": [],
   "source": [
    "#经过多轮训练，每张图上有多个区域，我们再用Unet对负样本进行训练，再训练一个classifier来判断哪层有nodule\n",
    "#X： 特征\n",
    "#y： 有结节/不是结节\n",
    "#classifier：  利用特征的机器学习模型\n",
    "\n",
    "#提取结节特征，存到一行，与label对应\n"
   ]
  },
  {
   "cell_type": "code",
   "execution_count": 63,
   "metadata": {},
   "outputs": [
    {
     "data": {
      "image/png": "[encoded data removed]",
      "text/plain": [
       "<matplotlib.figure.Figure at 0x7fc84f853c10>"
      ]
     },
     "metadata": {},
     "output_type": "display_data"
    }
   ],
   "source": [
    "masks_test = np.load('/home/chenxupeng/projects/pr/output/masksTestPredicted_4_1.npy')\n",
    "fig, ax = plt.subplots(2, 5, figsize=(16,10))\n",
    "for i in range(5):\n",
    "    for j in range(2):\n",
    "        ax[j,i].imshow(masks_test_true[0][100+2*i+j][0],'Reds',alpha = 0.5)\n",
    "        ax[j,i].imshow(masks_test[100+2*i+j][0],'Blues',alpha = 0.5)\n",
    "        ax[j,i].set_axis_off()\n",
    "plt.show()"
   ]
  },
  {
   "cell_type": "code",
   "execution_count": 5,
   "metadata": {
    "collapsed": true
   },
   "outputs": [],
   "source": []
  },
  {
   "cell_type": "code",
   "execution_count": 6,
   "metadata": {},
   "outputs": [
    {
     "data": {
      "text/plain": [
       "13954.0"
      ]
     },
     "execution_count": 6,
     "metadata": {},
     "output_type": "execute_result"
    }
   ],
   "source": [
    "np.sum(masks_train[0][0][0])"
   ]
  },
  {
   "cell_type": "code",
   "execution_count": 5,
   "metadata": {
    "collapsed": true
   },
   "outputs": [],
   "source": [
    "#predicted mask "
   ]
  },
  {
   "cell_type": "code",
   "execution_count": 24,
   "metadata": {
    "collapsed": true
   },
   "outputs": [],
   "source": [
    "predicted_mask = {}\n",
    "for i in range(5):\n",
    "    predicted_mask[i] = np.load('/home/chenxupeng/projects/pr/output/masksTestPredicted_'+str(i)+'.npy')"
   ]
  },
  {
   "cell_type": "code",
   "execution_count": 10,
   "metadata": {},
   "outputs": [
    {
     "data": {
      "text/plain": [
       "(200, 1, 224, 224)"
      ]
     },
     "execution_count": 10,
     "metadata": {},
     "output_type": "execute_result"
    }
   ],
   "source": [
    "predicted_mask[0].shape"
   ]
  },
  {
   "cell_type": "code",
   "execution_count": null,
   "metadata": {
    "collapsed": true
   },
   "outputs": [],
   "source": []
  },
  {
   "cell_type": "code",
   "execution_count": 32,
   "metadata": {
    "collapsed": true
   },
   "outputs": [],
   "source": [
    "#找到每个连通区域 以及获得面积\n",
    "def getRegionFromMap(slice_npy):\n",
    "    thr = np.where(slice_npy > np.mean(slice_npy),0.,1.0)\n",
    "    label_image = label(thr)\n",
    "    labels = label_image.astype(int)\n",
    "    regions = regionprops(labels)\n",
    "    return regions"
   ]
  },
  {
   "cell_type": "code",
   "execution_count": 50,
   "metadata": {},
   "outputs": [],
   "source": [
    "slice_npy = predicted_mask[0][0][0]\n",
    "thr = np.where(slice_npy > np.mean(slice_npy),0.,1.0)\n",
    "label_image = label(thr)\n",
    "labels = label_image.astype(int)\n",
    "regions = regionprops(labels)"
   ]
  },
  {
   "cell_type": "code",
   "execution_count": 54,
   "metadata": {},
   "outputs": [
    {
     "data": {
      "text/plain": [
       "[<skimage.measure._regionprops._RegionProperties at 0x7fc70a99e110>]"
      ]
     },
     "execution_count": 54,
     "metadata": {},
     "output_type": "execute_result"
    }
   ],
   "source": [
    "regions"
   ]
  },
  {
   "cell_type": "code",
   "execution_count": 56,
   "metadata": {},
   "outputs": [
    {
     "data": {
      "image/png": "[encoded data removed]",
      "text/plain": [
       "<matplotlib.figure.Figure at 0x7fc84f97fa90>"
      ]
     },
     "metadata": {},
     "output_type": "display_data"
    }
   ],
   "source": [
    "fig, ax = plt.subplots(1, 3, figsize=(16,10))\n",
    "ax[0].imshow(predicted_mask[0][0][0],'bone')\n",
    "ax[1].imshow(thr,'bone')\n",
    "ax[2].imshow(labels,'bone')\n",
    "plt.show()"
   ]
  },
  {
   "cell_type": "code",
   "execution_count": 64,
   "metadata": {
    "collapsed": true
   },
   "outputs": [],
   "source": [
    "def getRegionMetricRow(array):\n",
    "    seg = array\n",
    "    nslices = seg.shape[0]\n",
    "\n",
    "    #metrics\n",
    "    totalArea = 0.0000000001\n",
    "    avgArea = 0.\n",
    "    maxArea = 0.\n",
    "    avgEcc = 0.\n",
    "    avgEquivlentDiameter = 0.\n",
    "    stdEquivlentDiameter = 0.\n",
    "    weightedX = 0.\n",
    "    weightedY = 0.\n",
    "    numNodes = 0.\n",
    "    numNodesperSlice = 0.\n",
    "\n",
    "    #maxAllowedArea = 0.10 * 224 * 224\n",
    "\n",
    "    areas = []\n",
    "    eqDiameters = []\n",
    "    for slicen in range(nslices):\n",
    "        regions = getRegionFromMap(seg[slicen,0,:,:])\n",
    "        for region in regions:\n",
    "            totalArea += region.area\n",
    "            areas.append(region.area)\n",
    "            avgEcc += region.eccentricity\n",
    "            avgEquivlentDiameter += region.equivalent_diameter\n",
    "            eqDiameters.append(region.equivalent_diameter)\n",
    "            weightedX += region.centroid[0]*region.area\n",
    "            weightedY += region.centroid[1]*region.area\n",
    "            numNodes += 1\n",
    "\n",
    "    weightedX = weightedX / totalArea \n",
    "    weightedY = weightedY / totalArea\n",
    "    avgArea = totalArea / numNodes\n",
    "    avgEcc = avgEcc / numNodes\n",
    "    avgEquivlentDiameter = avgEquivlentDiameter / numNodes\n",
    "    stdEquivlentDiameter = np.std(eqDiameters)\n",
    "    maxArea = max(areas)\n",
    "    numNodesperSlice = numNodes*1. / nslices\n",
    "    return np.array([avgArea,maxArea,avgEcc,avgEquivlentDiameter,\\\n",
    "                     stdEquivlentDiameter, weightedX, weightedY, numNodes, numNodesperSlice])"
   ]
  },
  {
   "cell_type": "code",
   "execution_count": 59,
   "metadata": {},
   "outputs": [
    {
     "data": {
      "text/plain": [
       "(1, 1, 224, 224)"
      ]
     },
     "execution_count": 59,
     "metadata": {},
     "output_type": "execute_result"
    }
   ],
   "source": [
    "predicted_mask[0][:1].shape"
   ]
  },
  {
   "cell_type": "code",
   "execution_count": 65,
   "metadata": {},
   "outputs": [
    {
     "data": {
      "text/plain": [
       "array([  3.88310000e+04,   3.88310000e+04,   3.08949407e-01,\n",
       "         2.22353693e+02,   0.00000000e+00,   1.06924519e+02,\n",
       "         1.13518941e+02,   1.00000000e+00,   1.00000000e+00])"
      ]
     },
     "execution_count": 65,
     "metadata": {},
     "output_type": "execute_result"
    }
   ],
   "source": [
    "getRegionMetricRow(predicted_mask[0][:1])"
   ]
  },
  {
   "cell_type": "code",
   "execution_count": null,
   "metadata": {
    "collapsed": true
   },
   "outputs": [],
   "source": [
    "def createFeatureDataset(nodfile):\n",
    "    # dict with mapping between truth and \n",
    "    truthdata = pickle.load(open(\"/home/sander/truthdict.pkl\",'r'))\n",
    "    numfeatures = 9\n",
    "    feature_array = np.zeros((len(nodfiles),numfeatures))\n",
    "    truth_metric = np.zeros((len(nodfiles)))\n",
    "\n",
    "    for i,nodfile in enumerate(nodfiles):\n",
    "        patID = nodfile.split(\"_\")[2]\n",
    "        truth_metric[i] = truthdata[int(patID)]\n",
    "        feature_array[i] = getRegionMetricRow(nodfile)\n",
    "\n",
    "    np.save(\"dataY.npy\", truth_metric)\n",
    "    np.save(\"dataX.npy\", feature_array)"
   ]
  },
  {
   "cell_type": "code",
   "execution_count": null,
   "metadata": {
    "collapsed": true
   },
   "outputs": [],
   "source": []
  },
  {
   "cell_type": "code",
   "execution_count": null,
   "metadata": {
    "collapsed": true
   },
   "outputs": [],
   "source": []
  },
  {
   "cell_type": "code",
   "execution_count": null,
   "metadata": {
    "collapsed": true
   },
   "outputs": [],
   "source": []
  },
  {
   "cell_type": "code",
   "execution_count": null,
   "metadata": {
    "collapsed": true
   },
   "outputs": [],
   "source": []
  },
  {
   "cell_type": "code",
   "execution_count": null,
   "metadata": {
    "collapsed": true
   },
   "outputs": [],
   "source": []
  },
  {
   "cell_type": "code",
   "execution_count": null,
   "metadata": {
    "collapsed": true
   },
   "outputs": [],
   "source": []
  },
  {
   "cell_type": "code",
   "execution_count": null,
   "metadata": {
    "collapsed": true
   },
   "outputs": [],
   "source": [
    "X = np.load(\"dataX.npy\")\n",
    "Y = np.load(\"dataY.npy\")\n",
    "\n",
    "kf = KFold(Y, n_folds=3)\n",
    "y_pred = Y * 0\n",
    "for train, test in kf:\n",
    "    X_train, X_test, y_train, y_test = X[train,:], X[test,:], Y[train], Y[test]\n",
    "    clf = RF(n_estimators=100, n_jobs=3)\n",
    "    clf.fit(X_train, y_train)\n",
    "    y_pred[test] = clf.predict(X_test)\n",
    "print(\"Random Forest\")\n",
    "print classification_report(Y, y_pred, target_names=[\"No Cancer\", \"Cancer\"])\n",
    "print(\"logloss\",logloss(Y, y_pred))\n",
    "\n",
    "# try XGBoost\n",
    "print (\"XGBoost\")\n",
    "kf = KFold(Y, n_folds=3)\n",
    "y_pred = Y * 0\n",
    "for train, test in kf:\n",
    "    X_train, X_test, y_train, y_test = X[train,:], X[test,:], Y[train], Y[test]\n",
    "    clf = xgb.XGBClassifier(objective=\"binary:logistic\")\n",
    "    clf.fit(X_train, y_train)\n",
    "    y_pred[test] = clf.predict(X_test)\n",
    "print classification_report(Y, y_pred, target_names=[\"No Cancer\", \"Cancer\"])\n",
    "print(\"logloss\",logloss(Y, y_pred))\n",
    "\n",
    "# All Cancer\n",
    "print \"Predicting all positive\"\n",
    "y_pred = np.ones(Y.shape)\n",
    "print classification_report(Y, y_pred, target_names=[\"No Cancer\", \"Cancer\"])\n",
    "print(\"logloss\",logloss(Y, y_pred))\n",
    "\n",
    "# No Cancer\n",
    "print \"Predicting all negative\"\n",
    "y_pred = Y*0\n",
    "print classification_report(Y, y_pred, target_names=[\"No Cancer\", \"Cancer\"])\n",
    "print(\"logloss\",logloss(Y, y_pred))"
   ]
  },
  {
   "cell_type": "code",
   "execution_count": null,
   "metadata": {
    "collapsed": true
   },
   "outputs": [],
   "source": []
  },
  {
   "cell_type": "code",
   "execution_count": null,
   "metadata": {
    "collapsed": true
   },
   "outputs": [],
   "source": [
    "#针对训练的结果，其实我们的U-net给出了多个区域，在2D 上，如何判断究竟哪个是真正的结节？\n",
    "#找连通区域，判断连通区域有没有包括结节坐标，给结节一个label   \n",
    "# CNN model如resnet  VGG等\n",
    "#RCNN？ 确定每个结节的区域  "
   ]
  }
 ],
 "metadata": {
  "kernelspec": {
   "display_name": "Python 2",
   "language": "python",
   "name": "python2"
  },
  "language_info": {
   "codemirror_mode": {
    "name": "ipython",
    "version": 2
   },
   "file_extension": ".py",
   "mimetype": "text/x-python",
   "name": "python",
   "nbconvert_exporter": "python",
   "pygments_lexer": "ipython2",
   "version": "2.7.13"
  }
 },
 "nbformat": 4,
 "nbformat_minor": 2
}
