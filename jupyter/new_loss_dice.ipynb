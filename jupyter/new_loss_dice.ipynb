{
 "cells": [
  {
   "cell_type": "code",
   "execution_count": 10,
   "metadata": {},
   "outputs": [
    {
     "name": "stdout",
     "output_type": "stream",
     "text": [
      "Populating the interactive namespace from numpy and matplotlib\n"
     ]
    }
   ],
   "source": [
    "%pylab inline"
   ]
  },
  {
   "cell_type": "code",
   "execution_count": 2,
   "metadata": {
    "collapsed": true
   },
   "outputs": [],
   "source": [
    "#Dice loss使得区域总是无法连通，预测出多个区域，很难下降，结果不够理想，我们希望设计一个新的loss"
   ]
  },
  {
   "cell_type": "code",
   "execution_count": null,
   "metadata": {
    "collapsed": true
   },
   "outputs": [],
   "source": [
    "'''\n",
    "假设是输出的mask值服从一个二维正态分布，然后通过最小化mask到这个二维正态分布的KL距离来得到这个二维正态分布的均值和协方差矩阵\n",
    "然后协方差矩阵的行列式可以作为损失函数，如果输出的方差特别大的话，就会得到更多的惩罚\n",
    "假设服从isotropic 正态分布  可能是个椭圆，但是协方差项先不加了试一试，加上一个带正则化项的方差，尽量使得结节唯一\n",
    "'''"
   ]
  },
  {
   "cell_type": "code",
   "execution_count": 3,
   "metadata": {
    "collapsed": true
   },
   "outputs": [],
   "source": [
    "N = 256\n",
    "y, x = np.mgrid[:256, :256]"
   ]
  },
  {
   "cell_type": "code",
   "execution_count": 4,
   "metadata": {},
   "outputs": [
    {
     "data": {
      "text/plain": [
       "<matplotlib.image.AxesImage at 0x7f36d7cee150>"
      ]
     },
     "execution_count": 4,
     "metadata": {},
     "output_type": "execute_result"
    },
    {
     "data": {
      "image/png": "[encoded data removed]",
      "text/plain": [
       "<matplotlib.figure.Figure at 0x7f379813e2d0>"
      ]
     },
     "metadata": {},
     "output_type": "display_data"
    }
   ],
   "source": [
    "sigma_x = 50\n",
    "sigma_y = 50\n",
    "m = np.zeros((N, N))\n",
    "for i in range(5):\n",
    "    mu_x = np.random.randint(10, N - 10)\n",
    "    mu_y = np.random.randint(10, N - 10)\n",
    "    m += 1.0/(2.0*np.pi*sigma_x*sigma_y)*np.exp(-0.5*(x - mu_x)**2/(sigma_x**2) - 0.5*(y - mu_y)**2/(sigma_y**2))\n",
    "m /= m.sum()\n",
    "matshow(m, cmap=cm.Greys)"
   ]
  },
  {
   "cell_type": "code",
   "execution_count": 5,
   "metadata": {
    "collapsed": true
   },
   "outputs": [],
   "source": [
    "mu_x_ = np.sum(x*m)\n",
    "mu_y_ = np.sum(y*m)\n",
    "sigma_x_ = np.sqrt(np.sum((x - mu_x)**2*m))\n",
    "sigma_y_ = np.sqrt(np.sum((y - mu_y)**2*m))"
   ]
  },
  {
   "cell_type": "code",
   "execution_count": 6,
   "metadata": {},
   "outputs": [
    {
     "name": "stdout",
     "output_type": "stream",
     "text": [
      "135.671727483 147.241665314 54.5915015413 66.4593495425\n"
     ]
    }
   ],
   "source": [
    "print mu_x_, mu_y_, sigma_x_, sigma_y_"
   ]
  },
  {
   "cell_type": "code",
   "execution_count": 7,
   "metadata": {},
   "outputs": [
    {
     "data": {
      "text/plain": [
       "155"
      ]
     },
     "execution_count": 7,
     "metadata": {},
     "output_type": "execute_result"
    }
   ],
   "source": [
    "mu_x"
   ]
  },
  {
   "cell_type": "code",
   "execution_count": 8,
   "metadata": {
    "collapsed": true
   },
   "outputs": [],
   "source": [
    "#loss:  loss+ \\lambda*(\\sigma_x +\\sigma_y)"
   ]
  },
  {
   "cell_type": "code",
   "execution_count": 11,
   "metadata": {
    "collapsed": true
   },
   "outputs": [],
   "source": [
    "import keras as K\n",
    "from keras import backend as k"
   ]
  },
  {
   "cell_type": "code",
   "execution_count": null,
   "metadata": {
    "collapsed": true
   },
   "outputs": [],
   "source": [
    "#之前的loss\n",
    "smooth =1.\n",
    "def dice_coef(y_true, y_pred):\n",
    "    y_true_f = K.flatten(y_true)\n",
    "    y_pred_f = K.flatten(y_pred)\n",
    "    intersection = K.sum(y_true_f * y_pred_f)\n",
    "    return (2. * intersection + smooth) / (K.sum(y_true_f) + K.sum(y_pred_f) + smooth)\n",
    "\n",
    "def dice_coef_np(y_true,y_pred):\n",
    "    y_true_f = y_true.flatten()\n",
    "    y_pred_f = y_pred.flatten()\n",
    "    intersection = np.sum(y_true_f * y_pred_f)\n",
    "    return (2. * intersection + smooth) / (np.sum(y_true_f) + np.sum(y_pred_f) + smooth)\n",
    "\n",
    "def dice_coef_loss(y_true, y_pred):\n",
    "    return 1.- dice_coef(y_true, y_pred)"
   ]
  },
  {
   "cell_type": "code",
   "execution_count": null,
   "metadata": {
    "collapsed": true
   },
   "outputs": [],
   "source": []
  },
  {
   "cell_type": "code",
   "execution_count": 17,
   "metadata": {
    "collapsed": true
   },
   "outputs": [],
   "source": [
    "#新的loss\n",
    "y, x = np.mgrid[:224, :224]/224.0\n",
    "def loss(y_true,y_pred,alpha):\n",
    "    y_true_f = K.flatten(y_true)\n",
    "    y_pred_f = K.flatten(y_pred)\n",
    "    intersection = K.sum(y_true_f * y_pred_f)\n",
    "    m = y_pred /K.sum(y_pred)\n",
    "    mu_x_ = K.sum(x*m)\n",
    "    mu_y_ = K.sum(y*m)\n",
    "    sigma_x = K.sum((x - mu_x)**2*m)\n",
    "    sigma_y = K.sum((y - mu_y)**2*m)\n",
    "    loss = (2. * intersection ) / (K.sum(y_true_f) + K.sum(y_pred_f) ) +alpha*(sigma_x+sigma_y)"
   ]
  },
  {
   "cell_type": "code",
   "execution_count": 15,
   "metadata": {},
   "outputs": [],
   "source": [
    "y = y/224.0"
   ]
  },
  {
   "cell_type": "code",
   "execution_count": 18,
   "metadata": {},
   "outputs": [
    {
     "data": {
      "text/plain": [
       "array([[ 0.        ,  0.        ,  0.        , ...,  0.        ,\n",
       "         0.        ,  0.        ],\n",
       "       [ 0.00446429,  0.00446429,  0.00446429, ...,  0.00446429,\n",
       "         0.00446429,  0.00446429],\n",
       "       [ 0.00892857,  0.00892857,  0.00892857, ...,  0.00892857,\n",
       "         0.00892857,  0.00892857],\n",
       "       ..., \n",
       "       [ 0.98660714,  0.98660714,  0.98660714, ...,  0.98660714,\n",
       "         0.98660714,  0.98660714],\n",
       "       [ 0.99107143,  0.99107143,  0.99107143, ...,  0.99107143,\n",
       "         0.99107143,  0.99107143],\n",
       "       [ 0.99553571,  0.99553571,  0.99553571, ...,  0.99553571,\n",
       "         0.99553571,  0.99553571]])"
      ]
     },
     "execution_count": 18,
     "metadata": {},
     "output_type": "execute_result"
    }
   ],
   "source": [
    "y"
   ]
  },
  {
   "cell_type": "code",
   "execution_count": null,
   "metadata": {
    "collapsed": true
   },
   "outputs": [],
   "source": []
  }
 ],
 "metadata": {
  "kernelspec": {
   "display_name": "Python 2",
   "language": "python",
   "name": "python2"
  },
  "language_info": {
   "codemirror_mode": {
    "name": "ipython",
    "version": 2
   },
   "file_extension": ".py",
   "mimetype": "text/x-python",
   "name": "python",
   "nbconvert_exporter": "python",
   "pygments_lexer": "ipython2",
   "version": "2.7.13"
  }
 },
 "nbformat": 4,
 "nbformat_minor": 2
}
