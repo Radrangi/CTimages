{
 "cells": [
  {
   "cell_type": "code",
   "execution_count": 1,
   "metadata": {},
   "outputs": [
    {
     "name": "stderr",
     "output_type": "stream",
     "text": [
      "Using TensorFlow backend.\n"
     ]
    }
   ],
   "source": [
    "from __future__ import print_function, division\n",
    "import numpy as np\n",
    "import os\n",
    "from glob import glob\n",
    "import pandas as pd\n",
    "import numpy as np\n",
    "import matplotlib.pyplot as plt\n",
    "import seaborn as sns\n",
    "import h5py\n",
    "from tqdm import tqdm\n",
    "import keras as K\n",
    "from keras.callbacks import TensorBoard\n",
    "from keras.preprocessing.image import ImageDataGenerator\n",
    "from keras.utils.training_utils import multi_gpu_model"
   ]
  },
  {
   "cell_type": "code",
   "execution_count": 2,
   "metadata": {},
   "outputs": [
    {
     "name": "stdout",
     "output_type": "stream",
     "text": [
      "/home/chenxupeng/projects/pr\n"
     ]
    }
   ],
   "source": [
    "cd /home/chenxupeng/projects/pr"
   ]
  },
  {
   "cell_type": "code",
   "execution_count": 3,
   "metadata": {
    "collapsed": true
   },
   "outputs": [],
   "source": [
    "#准备数据\n",
    "images_train = {}\n",
    "images_test={}\n",
    "masks_train={}\n",
    "masks_test_true ={}\n",
    "\n",
    "for i in range(5):\n",
    "    f =  h5py.File('/home/chenxupeng/projects/pr/preprocess/forunet/segment/cv_'+str(i)+'_224*224_minmax')\n",
    "    images_train[i] = f['images_train_'+str(i)][:,:,:,:]  \n",
    "    images_test[i] = f['images_test_'+str(i)][:,:,:,:]  \n",
    "    masks_train[i] = f['masks_train_'+str(i)][:,:,:,:]  \n",
    "    masks_test_true[i] =f['masks_test_'+str(i)][:,:,:,:] "
   ]
  },
  {
   "cell_type": "code",
   "execution_count": 3,
   "metadata": {},
   "outputs": [
    {
     "name": "stderr",
     "output_type": "stream",
     "text": [
      "100%|██████████| 1/1 [00:04<00:00,  4.88s/it]\n"
     ]
    }
   ],
   "source": [
    "#准备数据 augment  同样本不打乱\n",
    "images_train = {}\n",
    "images_test={}\n",
    "masks_train={}\n",
    "masks_test_true ={}\n",
    "\n",
    "for i in tqdm(range(1)):\n",
    "    with h5py.File('/home/chenxupeng/projects/pr/preprocess/forunet/segment/cv_'+str(i)+'_augment_minmax') as f:\n",
    "        images_train[i] = f['images_train'][:,:,:,:]  \n",
    "        images_test[i] = f['images_test'][:,:,:,:]  \n",
    "        masks_train[i] = f['masks_train'][:,:,:,:]  \n",
    "        masks_test_true[i] =f['masks_test'][:,:,:,:] "
   ]
  },
  {
   "cell_type": "code",
   "execution_count": 9,
   "metadata": {
    "collapsed": true
   },
   "outputs": [],
   "source": [
    "#os.environ[\"CUDA_DEVICE_ORDER\"] = \"PCI_BUS_ID\" # so the IDs match nvidia-smi\n",
    "#os.environ[\"CUDA_VISIBLE_DEVICES\"] = \"1\""
   ]
  },
  {
   "cell_type": "code",
   "execution_count": 5,
   "metadata": {},
   "outputs": [],
   "source": [
    "from keras.callbacks import EarlyStopping\n",
    "from train_unet_newloss import *\n",
    "model = get_unet(2)   \n",
    "model_checkpoint = ModelCheckpoint('output/unet_newloss.hdf5', monitor='dice_coef', save_best_only=True) \n",
    "def Model(images_train,images_test,masks_train,masks_test_true,count):\n",
    "    model.fit(images_train, masks_train, batch_size=32, nb_epoch=100,   \n",
    "              verbose=1, shuffle=False,validation_split=0.1,\n",
    "              callbacks=[model_checkpoint,EarlyStopping(monitor='val_dice_coef', patience=10, verbose=0),TensorBoard(log_dir='/home/chenxupeng/projects/pr/output/tensorboard/unet/'+str(count)+'_1/log_dir')]) \n",
    "    num_test = images_test.shape[0]\n",
    "    masks_test = np.ndarray([num_test,1,224,224],dtype=np.float32) \n",
    "    predict = model.predict([images_test], verbose=0)\n",
    "    for i in tqdm(range(num_test)): \n",
    "        masks_test[i] = predict[i]\n",
    "    np.save('/home/chenxupeng/projects/pr/output/masksTestPredicted_'+str(count)+'_1.npy', masks_test)  \n",
    "    mean = 0.0  \n",
    "    for i in range(num_test):  \n",
    "        mean+=dice_coef_np(masks_test_true[i,0], masks_test[i,0])  \n",
    "    mean/=num_test  \n",
    "    print(\"Mean Dice Coeff : \",mean) \n",
    "    return mean"
   ]
  },
  {
   "cell_type": "code",
   "execution_count": 9,
   "metadata": {},
   "outputs": [
    {
     "data": {
      "text/plain": [
       "(2913, 1, 224, 224)"
      ]
     },
     "execution_count": 9,
     "metadata": {},
     "output_type": "execute_result"
    }
   ],
   "source": [
    "images_test[0].shape"
   ]
  },
  {
   "cell_type": "code",
   "execution_count": null,
   "metadata": {},
   "outputs": [
    {
     "name": "stderr",
     "output_type": "stream",
     "text": [
      "  0%|          | 0/1 [00:00<?, ?it/s]/home/chenxupeng/apps/anaconda2/lib/python2.7/site-packages/ipykernel_launcher.py:8: UserWarning: The `nb_epoch` argument in `fit` has been renamed `epochs`.\n",
      "  \n"
     ]
    },
    {
     "name": "stdout",
     "output_type": "stream",
     "text": [
      "Train on 7200 samples, validate on 800 samples\n",
      "Epoch 1/100\n",
      "7200/7200 [==============================] - 164s 23ms/step - loss: 0.0459 - dice_coef: 0.0079 - sigma: 53.7560 - val_loss: 0.0390 - val_dice_coef: 0.0099 - val_sigma: 48.9296\n",
      "Epoch 2/100\n",
      "7200/7200 [==============================] - 163s 23ms/step - loss: 0.0276 - dice_coef: 0.0183 - sigma: 45.9615 - val_loss: 0.0725 - val_dice_coef: 7.8190e-12 - val_sigma: 72.5053\n",
      "Epoch 3/100\n",
      "6304/7200 [=========================>....] - ETA: 20s - loss: 0.0230 - dice_coef: 4.2613e-11 - sigma: 22.9824"
     ]
    }
   ],
   "source": [
    "#2170 . 542  26217   2913 \n",
    "sample_num_train = 8000\n",
    "sample_num_test = 800\n",
    "mean = {}\n",
    "for i in tqdm(range(1)):\n",
    "    mean[i] = Model(images_train[i][:sample_num_train,:,:,:],images_test[i][:sample_num_test,:,:,:],masks_train[i][:sample_num_train,:,:,:],masks_test_true[i][:sample_num_test,:,:,:],i)"
   ]
  },
  {
   "cell_type": "code",
   "execution_count": null,
   "metadata": {
    "collapsed": true
   },
   "outputs": [],
   "source": [
    "#model.summary()"
   ]
  },
  {
   "cell_type": "code",
   "execution_count": null,
   "metadata": {
    "collapsed": true
   },
   "outputs": [],
   "source": [
    "model.save('output/unet_newloss.hdf5')"
   ]
  },
  {
   "cell_type": "code",
   "execution_count": null,
   "metadata": {
    "collapsed": true
   },
   "outputs": [],
   "source": []
  },
  {
   "cell_type": "code",
   "execution_count": 7,
   "metadata": {},
   "outputs": [
    {
     "data": {
      "text/plain": [
       "{0: 0.037512394730308693}"
      ]
     },
     "execution_count": 7,
     "metadata": {},
     "output_type": "execute_result"
    }
   ],
   "source": [
    "# Dice coefficient:\n",
    "mean"
   ]
  },
  {
   "cell_type": "code",
   "execution_count": 17,
   "metadata": {},
   "outputs": [
    {
     "name": "stderr",
     "output_type": "stream",
     "text": [
      "/home/chenxupeng/apps/anaconda2/lib/python2.7/site-packages/matplotlib/font_manager.py:1297: UserWarning: findfont: Font family [u'sans-serif'] not found. Falling back to DejaVu Sans\n",
      "  (prop.get_family(), self.defaultFamily[fontext]))\n"
     ]
    },
    {
     "data": {
      "image/png": "[encoded data removed]",
      "text/plain": [
       "<matplotlib.figure.Figure at 0x7f7e287213d0>"
      ]
     },
     "metadata": {},
     "output_type": "display_data"
    }
   ],
   "source": [
    "masks_test = np.load('/home/chenxupeng/projects/pr/output/masksTestPredicted_0_1.npy')\n",
    "fig, ax = plt.subplots(2, 5, figsize=(16,10))\n",
    "for i in range(5):\n",
    "    for j in range(2):\n",
    "        ax[j,i].imshow(masks_test_true[0][100+2*i+j][0],'Blues',alpha = 0.9)\n",
    "        ax[j,i].imshow(masks_test[100+2*i+j][0],'Reds',alpha = 0.9)\n",
    "plt.show()"
   ]
  },
  {
   "cell_type": "code",
   "execution_count": 9,
   "metadata": {},
   "outputs": [
    {
     "data": {
      "image/png": "[encoded data removed]",
      "text/plain": [
       "<matplotlib.figure.Figure at 0x7f9ecbe6fe10>"
      ]
     },
     "metadata": {},
     "output_type": "display_data"
    }
   ],
   "source": [
    "fig, ax = plt.subplots(2, 5, figsize=(16,10))\n",
    "for i in range(5):\n",
    "    for j in range(2):\n",
    "        ax[j,i].imshow(images_test[0][100+2*i+j][0],'bone')\n",
    "plt.show()"
   ]
  },
  {
   "cell_type": "code",
   "execution_count": null,
   "metadata": {
    "collapsed": true
   },
   "outputs": [],
   "source": [
    "#先计算一下真实mask的方差，看看合理范围大概在哪里"
   ]
  },
  {
   "cell_type": "code",
   "execution_count": 4,
   "metadata": {
    "collapsed": true
   },
   "outputs": [],
   "source": [
    "def sigma( y_pred):\n",
    "    y, x = np.mgrid[:224, :224]\n",
    "    m = y_pred /np.sum(y_pred.flatten())\n",
    "    sigma_x = np.sum((x - np.sum(x*m))**2*m)\n",
    "    sigma_y = np.sum((y - np.sum(y*m))**2*m)\n",
    "    return sigma_x*sigma_y"
   ]
  },
  {
   "cell_type": "code",
   "execution_count": 5,
   "metadata": {
    "collapsed": true
   },
   "outputs": [],
   "source": [
    "sig = np.ndarray([542*5,1])\n",
    "for i in range(5):\n",
    "    for j in range(542):\n",
    "        sig[542*i+j] = sigma(masks_test_true[i][j][0])"
   ]
  },
  {
   "cell_type": "code",
   "execution_count": 7,
   "metadata": {},
   "outputs": [
    {
     "name": "stdout",
     "output_type": "stream",
     "text": [
      "Populating the interactive namespace from numpy and matplotlib\n"
     ]
    },
    {
     "name": "stderr",
     "output_type": "stream",
     "text": [
      "/home/chenxupeng/apps/anaconda2/lib/python2.7/site-packages/IPython/core/magics/pylab.py:161: UserWarning: pylab import has clobbered these variables: ['f']\n",
      "`%matplotlib` prevents importing * from pylab and numpy\n",
      "  \"\\n`%matplotlib` prevents importing * from pylab and numpy\"\n"
     ]
    }
   ],
   "source": [
    "%pylab inline"
   ]
  },
  {
   "cell_type": "code",
   "execution_count": 8,
   "metadata": {},
   "outputs": [
    {
     "data": {
      "text/plain": [
       "(array([  2.07500000e+03,   1.76000000e+02,   6.60000000e+01,\n",
       "          5.60000000e+01,   5.70000000e+01,   2.50000000e+01,\n",
       "          3.00000000e+01,   2.70000000e+01,   1.50000000e+01,\n",
       "          1.90000000e+01,   1.70000000e+01,   2.30000000e+01,\n",
       "          2.70000000e+01,   1.90000000e+01,   1.20000000e+01,\n",
       "          0.00000000e+00,   6.00000000e+00,   0.00000000e+00,\n",
       "          0.00000000e+00,   1.20000000e+01,   0.00000000e+00,\n",
       "          0.00000000e+00,   0.00000000e+00,   0.00000000e+00,\n",
       "          0.00000000e+00,   0.00000000e+00,   6.00000000e+00,\n",
       "          0.00000000e+00,   0.00000000e+00,   0.00000000e+00,\n",
       "          0.00000000e+00,   0.00000000e+00,   0.00000000e+00,\n",
       "          8.00000000e+00,   4.00000000e+00,   0.00000000e+00,\n",
       "          0.00000000e+00,   0.00000000e+00,   0.00000000e+00,\n",
       "          0.00000000e+00,   0.00000000e+00,   0.00000000e+00,\n",
       "          0.00000000e+00,   0.00000000e+00,   0.00000000e+00,\n",
       "          0.00000000e+00,   0.00000000e+00,   0.00000000e+00,\n",
       "          0.00000000e+00,   0.00000000e+00,   1.20000000e+01,\n",
       "          0.00000000e+00,   0.00000000e+00,   0.00000000e+00,\n",
       "          0.00000000e+00,   0.00000000e+00,   0.00000000e+00,\n",
       "          0.00000000e+00,   0.00000000e+00,   0.00000000e+00,\n",
       "          0.00000000e+00,   0.00000000e+00,   0.00000000e+00,\n",
       "          0.00000000e+00,   0.00000000e+00,   0.00000000e+00,\n",
       "          0.00000000e+00,   0.00000000e+00,   0.00000000e+00,\n",
       "          0.00000000e+00,   0.00000000e+00,   0.00000000e+00,\n",
       "          0.00000000e+00,   0.00000000e+00,   0.00000000e+00,\n",
       "          1.00000000e+00,   2.00000000e+00,   0.00000000e+00,\n",
       "          0.00000000e+00,   3.00000000e+00,   0.00000000e+00,\n",
       "          0.00000000e+00,   0.00000000e+00,   0.00000000e+00,\n",
       "          0.00000000e+00,   0.00000000e+00,   0.00000000e+00,\n",
       "          0.00000000e+00,   0.00000000e+00,   0.00000000e+00,\n",
       "          0.00000000e+00,   0.00000000e+00,   0.00000000e+00,\n",
       "          0.00000000e+00,   0.00000000e+00,   0.00000000e+00,\n",
       "          0.00000000e+00,   0.00000000e+00,   0.00000000e+00,\n",
       "          1.20000000e+01]),\n",
       " array([  1.63214819e+00,   2.32254383e+02,   4.62876618e+02,\n",
       "          6.93498852e+02,   9.24121087e+02,   1.15474332e+03,\n",
       "          1.38536556e+03,   1.61598779e+03,   1.84661003e+03,\n",
       "          2.07723226e+03,   2.30785449e+03,   2.53847673e+03,\n",
       "          2.76909896e+03,   2.99972120e+03,   3.23034343e+03,\n",
       "          3.46096567e+03,   3.69158790e+03,   3.92221014e+03,\n",
       "          4.15283237e+03,   4.38345461e+03,   4.61407684e+03,\n",
       "          4.84469908e+03,   5.07532131e+03,   5.30594355e+03,\n",
       "          5.53656578e+03,   5.76718801e+03,   5.99781025e+03,\n",
       "          6.22843248e+03,   6.45905472e+03,   6.68967695e+03,\n",
       "          6.92029919e+03,   7.15092142e+03,   7.38154366e+03,\n",
       "          7.61216589e+03,   7.84278813e+03,   8.07341036e+03,\n",
       "          8.30403260e+03,   8.53465483e+03,   8.76527707e+03,\n",
       "          8.99589930e+03,   9.22652153e+03,   9.45714377e+03,\n",
       "          9.68776600e+03,   9.91838824e+03,   1.01490105e+04,\n",
       "          1.03796327e+04,   1.06102549e+04,   1.08408772e+04,\n",
       "          1.10714994e+04,   1.13021216e+04,   1.15327439e+04,\n",
       "          1.17633661e+04,   1.19939884e+04,   1.22246106e+04,\n",
       "          1.24552328e+04,   1.26858551e+04,   1.29164773e+04,\n",
       "          1.31470995e+04,   1.33777218e+04,   1.36083440e+04,\n",
       "          1.38389662e+04,   1.40695885e+04,   1.43002107e+04,\n",
       "          1.45308329e+04,   1.47614552e+04,   1.49920774e+04,\n",
       "          1.52226996e+04,   1.54533219e+04,   1.56839441e+04,\n",
       "          1.59145663e+04,   1.61451886e+04,   1.63758108e+04,\n",
       "          1.66064330e+04,   1.68370553e+04,   1.70676775e+04,\n",
       "          1.72982997e+04,   1.75289220e+04,   1.77595442e+04,\n",
       "          1.79901665e+04,   1.82207887e+04,   1.84514109e+04,\n",
       "          1.86820332e+04,   1.89126554e+04,   1.91432776e+04,\n",
       "          1.93738999e+04,   1.96045221e+04,   1.98351443e+04,\n",
       "          2.00657666e+04,   2.02963888e+04,   2.05270110e+04,\n",
       "          2.07576333e+04,   2.09882555e+04,   2.12188777e+04,\n",
       "          2.14495000e+04,   2.16801222e+04,   2.19107444e+04,\n",
       "          2.21413667e+04,   2.23719889e+04,   2.26026111e+04,\n",
       "          2.28332334e+04,   2.30638556e+04]),\n",
       " <a list of 100 Patch objects>)"
      ]
     },
     "execution_count": 8,
     "metadata": {},
     "output_type": "execute_result"
    },
    {
     "name": "stderr",
     "output_type": "stream",
     "text": [
      "/home/chenxupeng/apps/anaconda2/lib/python2.7/site-packages/matplotlib/font_manager.py:1297: UserWarning: findfont: Font family [u'sans-serif'] not found. Falling back to DejaVu Sans\n",
      "  (prop.get_family(), self.defaultFamily[fontext]))\n"
     ]
    },
    {
     "data": {
      "image/png": "[encoded data removed]",
      "text/plain": [
       "<matplotlib.figure.Figure at 0x7f991fa57c90>"
      ]
     },
     "metadata": {},
     "output_type": "display_data"
    }
   ],
   "source": [
    "hist(sig.flatten(),bins =100)"
   ]
  },
  {
   "cell_type": "code",
   "execution_count": 9,
   "metadata": {},
   "outputs": [
    {
     "name": "stdout",
     "output_type": "stream",
     "text": [
      "29.3632842363\n",
      "49.2757821088\n",
      "113.188122502\n",
      "305.614170278\n",
      "1341.89449378\n"
     ]
    }
   ],
   "source": [
    "print (np.percentile(sig,50))\n",
    "print (np.percentile(sig,60))\n",
    "print (np.percentile(sig,70))\n",
    "print (np.percentile(sig,80))\n",
    "print (np.percentile(sig,90))"
   ]
  },
  {
   "cell_type": "code",
   "execution_count": null,
   "metadata": {
    "collapsed": true
   },
   "outputs": [],
   "source": [
    "#用huber loss缓解问题：那就是得想办法让方差很大的时候损失函数不要上升太快\n",
    "#也许类似huber loss的损失函数会好一些"
   ]
  },
  {
   "cell_type": "code",
   "execution_count": null,
   "metadata": {
    "collapsed": true
   },
   "outputs": [],
   "source": [
    "def huber_loss(y_true, y_pred, clip_value):\n",
    "    assert clip_value > 0.\n",
    "\n",
    "    x = y_true - y_pred\n",
    "    if np.isinf(clip_value):\n",
    "        return .5 * K.square(x)\n",
    "\n",
    "    condition = K.abs(x) < clip_value\n",
    "    squared_loss = .5 * K.square(x)\n",
    "    linear_loss = clip_value * (K.abs(x) - .5 * clip_value)\n",
    "    if K.backend() == 'tensorflow':\n",
    "        import tensorflow as tf\n",
    "        if hasattr(tf, 'select'):\n",
    "            return tf.select(condition, squared_loss, linear_loss)  # condition, true, false\n",
    "        else:\n",
    "            return tf.where(condition, squared_loss, linear_loss)  # condition, true, false\n",
    "    elif K.backend() == 'theano':\n",
    "        from theano import tensor as T\n",
    "        return T.switch(condition, squared_loss, linear_loss)\n",
    "    else:\n",
    "        raise RuntimeError('Unknown backend \"{}\".'.format(K.backend()))"
   ]
  },
  {
   "cell_type": "code",
   "execution_count": null,
   "metadata": {
    "collapsed": true
   },
   "outputs": [],
   "source": [
    "#用augment过的图像来训练？？"
   ]
  },
  {
   "cell_type": "code",
   "execution_count": 9,
   "metadata": {
    "collapsed": true
   },
   "outputs": [],
   "source": [
    "with h5py.File('/home/chenxupeng/projects/pr/preprocess/forunet/segment/augment_merge') as f:\n",
    "    images = f['images'][:,:,:,:]\n",
    "    masks = f['masks'][:,:,:,:]"
   ]
  },
  {
   "cell_type": "code",
   "execution_count": 10,
   "metadata": {},
   "outputs": [
    {
     "data": {
      "text/plain": [
       "(29130, 1, 512, 512)"
      ]
     },
     "execution_count": 10,
     "metadata": {},
     "output_type": "execute_result"
    }
   ],
   "source": [
    "images.shape"
   ]
  },
  {
   "cell_type": "code",
   "execution_count": 13,
   "metadata": {},
   "outputs": [
    {
     "name": "stderr",
     "output_type": "stream",
     "text": [
      "  0%|          | 0/29130 [00:00<?, ?it/s]/home/chenxupeng/apps/anaconda2/lib/python2.7/site-packages/ipykernel_launcher.py:3: DeprecationWarning: `imresize` is deprecated!\n",
      "`imresize` is deprecated in SciPy 1.0.0, and will be removed in 1.2.0.\n",
      "Use ``skimage.transform.resize`` instead.\n",
      "  This is separate from the ipykernel package so we can avoid doing imports until\n",
      "100%|██████████| 29130/29130 [02:12<00:00, 219.83it/s]\n"
     ]
    }
   ],
   "source": [
    "from scipy.misc import imresize\n",
    "def image_resize(image):\n",
    "    image = imresize(image,(224,224))\n",
    "    return image\n",
    "images_= np.ndarray([29130,1,224,224],dtype=np.float32)\n",
    "masks_= np.ndarray([29130,1,224,224],dtype=np.float32)\n",
    "for j in tqdm(range(29130)):\n",
    "    images_[j,0,:,:] =image_resize(images[j,0,:,:])\n",
    "    masks_[j,0,:,:] =image_resize(masks[j,0,:,:])"
   ]
  },
  {
   "cell_type": "code",
   "execution_count": 14,
   "metadata": {},
   "outputs": [
    {
     "name": "stderr",
     "output_type": "stream",
     "text": [
      "100%|██████████| 29130/29130 [00:26<00:00, 1105.72it/s]\n"
     ]
    }
   ],
   "source": [
    "#未归一化，可能因此训练不好。现在逐层归一化\n",
    "from sklearn import preprocessing\n",
    "min_max_scaler = preprocessing.MinMaxScaler()\n",
    "def image_resize(image):\n",
    "    image_ = min_max_scaler.fit_transform(image)\n",
    "    return image_\n",
    "imags= np.ndarray([29130,1,224,224],dtype=np.float32)\n",
    "msks= np.ndarray([29130,1,224,224],dtype=np.float32)\n",
    "for t in tqdm(range(29130)):\n",
    "    imags[t,0,:,:] =image_resize(images_[t,0,:,:])\n",
    "    msks[t,0,:,:] =image_resize(masks_[t,0,:,:])"
   ]
  },
  {
   "cell_type": "code",
   "execution_count": 15,
   "metadata": {
    "collapsed": true
   },
   "outputs": [],
   "source": [
    "with h5py.File('preprocess/forunet/augment_merge_224*224_minmax') as f:\n",
    "    f.create_dataset('images',data = imags)\n",
    "    f.create_dataset('masks',data = msks)"
   ]
  },
  {
   "cell_type": "code",
   "execution_count": 7,
   "metadata": {},
   "outputs": [
    {
     "name": "stdout",
     "output_type": "stream",
     "text": [
      "1\n",
      "5\n"
     ]
    }
   ],
   "source": [
    "for i in (1,5):\n",
    "    print (i)"
   ]
  },
  {
   "cell_type": "code",
   "execution_count": null,
   "metadata": {
    "collapsed": true
   },
   "outputs": [],
   "source": []
  }
 ],
 "metadata": {
  "kernelspec": {
   "display_name": "Python 2",
   "language": "python",
   "name": "python2"
  },
  "language_info": {
   "codemirror_mode": {
    "name": "ipython",
    "version": 2
   },
   "file_extension": ".py",
   "mimetype": "text/x-python",
   "name": "python",
   "nbconvert_exporter": "python",
   "pygments_lexer": "ipython2",
   "version": "2.7.13"
  }
 },
 "nbformat": 4,
 "nbformat_minor": 2
}
